{
 "cells": [
  {
   "cell_type": "markdown",
   "id": "3f13022d",
   "metadata": {},
   "source": [
    "# 零售客群分析"
   ]
  },
  {
   "cell_type": "markdown",
   "id": "88cd1ef6",
   "metadata": {},
   "source": [
    "# Part 1. 编码值替换"
   ]
  },
  {
   "cell_type": "code",
   "execution_count": 34,
   "id": "74ff97b7",
   "metadata": {},
   "outputs": [
    {
     "name": "stderr",
     "output_type": "stream",
     "text": [
      "/opt/anaconda3/lib/python3.8/site-packages/openpyxl/styles/stylesheet.py:226: UserWarning: Workbook contains no default style, apply openpyxl's default\n",
      "  warn(\"Workbook contains no default style, apply openpyxl's default\")\n"
     ]
    }
   ],
   "source": [
    "import pandas as pd\n",
    "\n",
    "# 读取KYC标签数据及其对应字典值表\n",
    "customer_tags = pd.read_excel('/Users/suding/Desktop/Retail_Customer_Group_Analysis/suding/source_data/客群标签数据.xlsx')\n",
    "tag_dict = pd.read_excel('/Users/suding/Desktop/Retail_Customer_Group_Analysis/suding/source_data/标签字典值.xlsx')"
   ]
  },
  {
   "cell_type": "code",
   "execution_count": 35,
   "id": "56d7e3f0",
   "metadata": {},
   "outputs": [],
   "source": [
    "# 构建字典映射\n",
    "tag_mapping = dict(zip(tag_dict['tag_value_id'], tag_dict['tag_value_name']))\n",
    "# 记录未被替换的编码值\n",
    "unmatched_values = set()"
   ]
  },
  {
   "cell_type": "code",
   "execution_count": 36,
   "id": "399f0cc0",
   "metadata": {},
   "outputs": [],
   "source": [
    "# 替换编码值为具体取值\n",
    "def replace_tag_value(value):\n",
    "    if pd.isnull(value):\n",
    "        return value  \n",
    "    if value in tag_mapping:\n",
    "        return tag_mapping[value]\n",
    "    else:\n",
    "        unmatched_values.add(value)\n",
    "        return value  \n",
    "\n",
    "# 遍历数据表并替换值\n",
    "columns_to_replace = customer_tags.columns[3:]\n",
    "for column in columns_to_replace:\n",
    "    customer_tags[column] = customer_tags[column].apply(replace_tag_value)"
   ]
  },
  {
   "cell_type": "code",
   "execution_count": 37,
   "id": "7dbf31a2",
   "metadata": {},
   "outputs": [
    {
     "name": "stdout",
     "output_type": "stream",
     "text": [
      "共有 32 个编码值没有被替换:\n",
      "{3200, 0, 4100, 4488, 3600, 4499, 4500, 1300, 2200, 3100, 3500, 1200, 5300, 2100, 6200, 3266, 5188, 3400, 4300, 1100, 5200, 6100, 1500, 3166, 3300, 6501, 4200, 4600, 5100, 3700, 1400, 2300}\n"
     ]
    }
   ],
   "source": [
    "# 输出未替换的编码值统计信息\n",
    "print(f\"共有 {len(unmatched_values)} 个编码值没有被替换:\")\n",
    "print(unmatched_values)"
   ]
  },
  {
   "cell_type": "code",
   "execution_count": 38,
   "id": "e509f17d",
   "metadata": {},
   "outputs": [],
   "source": [
    "# 保存替换后的结果\n",
    "customer_tags.to_excel('/Users/suding/Desktop/Retail_Customer_Group_Analysis/suding/source_data/替换后的客群标签数据.xlsx', index=False)"
   ]
  },
  {
   "cell_type": "markdown",
   "id": "826a810e",
   "metadata": {},
   "source": [
    "# Part 2. 拼接客户资产汇总表、客户交易汇总表、客户基本信息表"
   ]
  },
  {
   "cell_type": "code",
   "execution_count": 39,
   "id": "92ae6e2f",
   "metadata": {},
   "outputs": [],
   "source": [
    "# 读取载入客户基本信息表、客户交易汇总表、客户资产汇总表\n",
    "customer_info = pd.read_excel('/Users/suding/Desktop/Retail_Customer_Group_Analysis/suding/source_data/客户基本信息.xlsx')\n",
    "customer_transactions = pd.read_excel('/Users/suding/Desktop/Retail_Customer_Group_Analysis/suding/source_data/客户交易汇总.xlsx')\n",
    "customer_assets = pd.read_excel('/Users/suding/Desktop/Retail_Customer_Group_Analysis/suding/source_data/客户资产汇总.xlsx')"
   ]
  },
  {
   "cell_type": "code",
   "execution_count": 40,
   "id": "43f77858",
   "metadata": {},
   "outputs": [],
   "source": [
    "# 拼接数据集\n",
    "merged_data = customer_tags.merge(customer_info, on='customer_id', how='left', suffixes=('', '_customer_info')) \\\n",
    "                           .merge(customer_transactions, on='customer_id', how='left', suffixes=('', '_customer_transactions')) \\\n",
    "                           .merge(customer_assets, on='customer_id', how='left', suffixes=('', '_customer_assets'))"
   ]
  },
  {
   "cell_type": "code",
   "execution_count": 41,
   "id": "b2f432d6",
   "metadata": {},
   "outputs": [
    {
     "name": "stdout",
     "output_type": "stream",
     "text": [
      "没有命名相同的字段（忽略 customer_no 和 by_month）。\n"
     ]
    }
   ],
   "source": [
    "# 检查拼接后是否有命名一致的字段\n",
    "all_columns = merged_data.columns\n",
    "duplicate_columns = all_columns[all_columns.duplicated()].unique()\n",
    "important_duplicates = [col for col in duplicate_columns if col not in ['customer_no', 'by_month']]\n",
    "\n",
    "# 输出命名相同的字段\n",
    "if important_duplicates:\n",
    "    print(f\"命名相同的字段: {important_duplicates}\")\n",
    "else:\n",
    "    print(\"没有命名相同的字段（忽略 customer_no 和 by_month）。\")"
   ]
  },
  {
   "cell_type": "markdown",
   "id": "ff591bf8",
   "metadata": {},
   "source": [
    "# Part 3. 处理缺失值"
   ]
  },
  {
   "cell_type": "code",
   "execution_count": 42,
   "id": "cd0b4181",
   "metadata": {},
   "outputs": [],
   "source": [
    "# 输出拼接后所有字段的缺失情况\n",
    "missing_data = merged_data.isnull().sum()\n",
    "missing_data = missing_data[missing_data > 0]\n",
    "missing_data.sort_values(inplace=True, ascending=False)"
   ]
  },
  {
   "cell_type": "code",
   "execution_count": 43,
   "id": "5cf5f719",
   "metadata": {},
   "outputs": [],
   "source": [
    "# 记录每个字段的来源\n",
    "source_columns = {\n",
    "    col: 'customer_tags' for col in customer_tags.columns if col not in ['trade_date', 'customer_id', 'customer_no']\n",
    "}\n",
    "source_columns.update({\n",
    "    col: 'customer_info' for col in customer_info.columns if col != 'customer_id'\n",
    "})\n",
    "source_columns.update({\n",
    "    col: 'customer_transactions' for col in customer_transactions.columns if col != 'customer_id'\n",
    "})\n",
    "source_columns.update({\n",
    "    col: 'customer_assets' for col in customer_assets.columns if col != 'customer_id'\n",
    "})\n",
    "\n",
    "missing_data_source = {col: source_columns.get(col, 'unknown') for col in missing_data.index}\n"
   ]
  },
  {
   "cell_type": "code",
   "execution_count": 44,
   "id": "fadd5b33",
   "metadata": {},
   "outputs": [
    {
     "name": "stdout",
     "output_type": "stream",
     "text": [
      "拼接后所有字段的缺失情况及其来源:\n",
      "end_asset_crdt (来自 customer_info): 缺失 36845 条\n",
      "if_qw_active_flag (来自 customer_tags): 缺失 36845 条\n",
      "level_jh_name (来自 customer_info): 缺失 36845 条\n",
      "profession_name (来自 customer_info): 缺失 36845 条\n",
      "begin_date_fund (来自 customer_info): 缺失 36845 条\n",
      "risk_label_fund_name (来自 customer_info): 缺失 36845 条\n",
      "risk_label_fund (来自 customer_info): 缺失 36845 条\n",
      "begin_date_future (来自 customer_info): 缺失 36845 条\n",
      "customer_kind_flag (来自 customer_info): 缺失 36845 条\n",
      "registfund (来自 customer_info): 缺失 36845 条\n",
      "std_date (来自 customer_info): 缺失 36845 条\n",
      "status_excp_date (来自 customer_info): 缺失 36845 条\n",
      "qw_qytg_push (来自 customer_tags): 缺失 36845 条\n",
      "if_qw_cfzb_flag (来自 customer_tags): 缺失 36845 条\n",
      "rate_normal (来自 customer_info): 缺失 36845 条\n",
      "zfly (来自 customer_tags): 缺失 36845 条\n",
      "if_grylcp_flag (来自 customer_tags): 缺失 36845 条\n",
      "buy_pri_1y (来自 customer_tags): 缺失 36845 条\n",
      "buy_qy_cust_1y (来自 customer_tags): 缺失 36845 条\n",
      "buy_pub_noncur_count_1y (来自 customer_tags): 缺失 36845 条\n",
      "redeem_pub_noncur_cust_7d (来自 customer_tags): 缺失 36845 条\n",
      "if_pension_flag (来自 customer_tags): 缺失 36845 条\n",
      "level_jh (来自 customer_info): 缺失 36838 条\n",
      "risk_label_future (来自 customer_info): 缺失 36235 条\n",
      "risk_label_future_name (来自 customer_info): 缺失 36235 条\n",
      "open_id (来自 customer_info): 缺失 31057 条\n",
      "branch_id_tjr (来自 customer_info): 缺失 16405 条\n",
      "emp_no_tjr (来自 customer_info): 缺失 14722 条\n",
      "manager_no (来自 customer_info): 缺失 12985 条\n",
      "if_fy_match_flag (来自 customer_tags): 缺失 11616 条\n",
      "if_jh_match_flag (来自 customer_tags): 缺失 11616 条\n",
      "sub_company_code_tjr (来自 customer_info): 缺失 9257 条\n",
      "responsorid (来自 customer_info): 缺失 7104 条\n",
      "prom_code (来自 customer_info): 缺失 6397 条\n",
      "manager_sub_branch_name (来自 customer_tags): 缺失 3069 条\n",
      "is_reg_wj (来自 customer_info): 缺失 1896 条\n",
      "unif_open_date (来自 customer_info): 缺失 275 条\n",
      "stockholder (来自 customer_info): 缺失 275 条\n",
      "unif_acct (来自 customer_info): 缺失 275 条\n",
      "city_name (来自 customer_info): 缺失 39 条\n",
      "city_id (来自 customer_info): 缺失 39 条\n",
      "bank_code (来自 customer_info): 缺失 34 条\n",
      "bank_name (来自 customer_info): 缺失 34 条\n",
      "certificate_addr (来自 customer_info): 缺失 31 条\n",
      "capital_account (来自 customer_info): 缺失 23 条\n",
      "cap_acct_id (来自 customer_info): 缺失 23 条\n",
      "invest_pref_label (来自 customer_info): 缺失 20 条\n",
      "ucub_level (来自 customer_info): 缺失 20 条\n",
      "age_range (来自 customer_tags): 缺失 3 条\n",
      "if_fund_ina_flag_type (来自 customer_tags): 缺失 3 条\n",
      "profession_id (来自 customer_info): 缺失 3 条\n"
     ]
    }
   ],
   "source": [
    "# 输出缺失情况\n",
    "print(\"拼接后所有字段的缺失情况及其来源:\")\n",
    "for col, count in missing_data.items():\n",
    "    print(f\"{col} (来自 {missing_data_source[col]}): 缺失 {count} 条\")"
   ]
  },
  {
   "cell_type": "code",
   "execution_count": 45,
   "id": "f82a493e",
   "metadata": {},
   "outputs": [],
   "source": [
    "# 移除完全缺失标签\n",
    "fields_to_remove = [\n",
    "    'end_asset_crdt', 'if_qw_active_flag', 'level_jh_name', 'profession_name', 'begin_date_fund',\n",
    "    'risk_label_fund_name', 'risk_label_fund', 'begin_date_future', 'customer_kind_flag', 'registfund',\n",
    "    'std_date', 'status_excp_date', 'qw_qytg_push', 'if_qw_cfzb_flag', 'rate_normal', 'zfly',\n",
    "    'if_grylcp_flag', 'buy_pri_1y', 'buy_qy_cust_1y', 'buy_pub_noncur_count_1y', 'redeem_pub_noncur_cust_7d',\n",
    "    'if_pension_flag', 'level_jh', 'risk_label_future', 'risk_label_future_name', 'open_id'\n",
    "]\n",
    "cleaned_data = merged_data.drop(columns=fields_to_remove)\n",
    "\n",
    "# 保存移除后的结果\n",
    "cleaned_data.to_excel('/Users/suding/Desktop/Retail_Customer_Group_Analysis/suding/training_data/dataset.xlsx', index=False)"
   ]
  },
  {
   "cell_type": "code",
   "execution_count": null,
   "id": "ba6caafe",
   "metadata": {},
   "outputs": [],
   "source": [
    "\"\"\"\n",
    "总计十个kyc标签因缺失严重被剔除：\n",
    "1. if_qw_active_flag: \n",
    "2. qw_qytg_push:\n",
    "3. zfly: \n",
    "4. if_grylcp_flag:\n",
    "5. buy_pri_1y: \n",
    "6. buy_qy_cust_1y: \n",
    "7. buy_pub_noncur_count_1y: \n",
    "8. redeem_pub_noncur_cust_7d: \n",
    "9. if_pension_flag: \n",
    "10.if_qw_cfzb_flag: \n",
    "\n",
    "\"\"\""
   ]
  }
 ],
 "metadata": {
  "kernelspec": {
   "display_name": "Python 3 (ipykernel)",
   "language": "python",
   "name": "python3"
  },
  "language_info": {
   "codemirror_mode": {
    "name": "ipython",
    "version": 3
   },
   "file_extension": ".py",
   "mimetype": "text/x-python",
   "name": "python",
   "nbconvert_exporter": "python",
   "pygments_lexer": "ipython3",
   "version": "3.8.3"
  }
 },
 "nbformat": 4,
 "nbformat_minor": 5
}
